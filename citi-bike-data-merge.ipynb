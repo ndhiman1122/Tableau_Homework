{
 "cells": [
  {
   "cell_type": "code",
   "execution_count": 1,
   "metadata": {},
   "outputs": [],
   "source": [
    "import pandas as pd"
   ]
  },
  {
   "cell_type": "code",
   "execution_count": 2,
   "metadata": {},
   "outputs": [],
   "source": [
    "# load in CSVs\n",
    "\n",
    "february_data = \"Citi Bike Data - Reference/JC-202202-citibike-tripdata.csv\"\n",
    "march_data = \"Citi Bike Data - Reference/JC-202203-citibike-tripdata.csv\"\n",
    "april_data = \"Citi Bike Data - Reference/JC-202204-citibike-tripdata.csv\""
   ]
  },
  {
   "cell_type": "code",
   "execution_count": 3,
   "metadata": {},
   "outputs": [],
   "source": [
    "# read CSVs\n",
    "\n",
    "feb_pd = pd.read_csv(february_data)\n",
    "mar_pd = pd.read_csv(march_data)\n",
    "apr_pd = pd.read_csv(april_data)"
   ]
  },
  {
   "cell_type": "code",
   "execution_count": 4,
   "metadata": {},
   "outputs": [],
   "source": [
    "# combine (concatenate) all 3 dataframes into a single one\n",
    "\n",
    "citi_bike_feb_apr = pd.concat ([feb_pd, mar_pd, apr_pd])"
   ]
  },
  {
   "cell_type": "code",
   "execution_count": 5,
   "metadata": {},
   "outputs": [
    {
     "data": {
      "text/html": [
       "<div>\n",
       "<style scoped>\n",
       "    .dataframe tbody tr th:only-of-type {\n",
       "        vertical-align: middle;\n",
       "    }\n",
       "\n",
       "    .dataframe tbody tr th {\n",
       "        vertical-align: top;\n",
       "    }\n",
       "\n",
       "    .dataframe thead th {\n",
       "        text-align: right;\n",
       "    }\n",
       "</style>\n",
       "<table border=\"1\" class=\"dataframe\">\n",
       "  <thead>\n",
       "    <tr style=\"text-align: right;\">\n",
       "      <th></th>\n",
       "      <th>ride_id</th>\n",
       "      <th>rideable_type</th>\n",
       "      <th>started_at</th>\n",
       "      <th>ended_at</th>\n",
       "      <th>start_station_name</th>\n",
       "      <th>start_station_id</th>\n",
       "      <th>end_station_name</th>\n",
       "      <th>end_station_id</th>\n",
       "      <th>start_lat</th>\n",
       "      <th>start_lng</th>\n",
       "      <th>end_lat</th>\n",
       "      <th>end_lng</th>\n",
       "      <th>member_casual</th>\n",
       "    </tr>\n",
       "  </thead>\n",
       "  <tbody>\n",
       "    <tr>\n",
       "      <th>0</th>\n",
       "      <td>B7BCBC133222B04A</td>\n",
       "      <td>classic_bike</td>\n",
       "      <td>2022-02-17 11:48:16</td>\n",
       "      <td>2022-02-17 11:58:30</td>\n",
       "      <td>Astor Place</td>\n",
       "      <td>JC077</td>\n",
       "      <td>Journal Square</td>\n",
       "      <td>JC103</td>\n",
       "      <td>40.719282</td>\n",
       "      <td>-74.071262</td>\n",
       "      <td>40.733670</td>\n",
       "      <td>-74.062500</td>\n",
       "      <td>member</td>\n",
       "    </tr>\n",
       "    <tr>\n",
       "      <th>1</th>\n",
       "      <td>0F9F1A0F18FD3A22</td>\n",
       "      <td>electric_bike</td>\n",
       "      <td>2022-02-02 08:31:26</td>\n",
       "      <td>2022-02-02 08:38:08</td>\n",
       "      <td>Astor Place</td>\n",
       "      <td>JC077</td>\n",
       "      <td>Sip Ave</td>\n",
       "      <td>JC056</td>\n",
       "      <td>40.719282</td>\n",
       "      <td>-74.071262</td>\n",
       "      <td>40.730897</td>\n",
       "      <td>-74.063913</td>\n",
       "      <td>member</td>\n",
       "    </tr>\n",
       "    <tr>\n",
       "      <th>2</th>\n",
       "      <td>44B5D106DDB509AC</td>\n",
       "      <td>electric_bike</td>\n",
       "      <td>2022-02-09 14:05:49</td>\n",
       "      <td>2022-02-09 14:10:21</td>\n",
       "      <td>Astor Place</td>\n",
       "      <td>JC077</td>\n",
       "      <td>Sip Ave</td>\n",
       "      <td>JC056</td>\n",
       "      <td>40.719282</td>\n",
       "      <td>-74.071262</td>\n",
       "      <td>40.730897</td>\n",
       "      <td>-74.063913</td>\n",
       "      <td>member</td>\n",
       "    </tr>\n",
       "    <tr>\n",
       "      <th>3</th>\n",
       "      <td>E1434F258C195DC6</td>\n",
       "      <td>classic_bike</td>\n",
       "      <td>2022-02-08 07:57:44</td>\n",
       "      <td>2022-02-08 08:15:26</td>\n",
       "      <td>Astor Place</td>\n",
       "      <td>JC077</td>\n",
       "      <td>Sip Ave</td>\n",
       "      <td>JC056</td>\n",
       "      <td>40.719282</td>\n",
       "      <td>-74.071262</td>\n",
       "      <td>40.730897</td>\n",
       "      <td>-74.063913</td>\n",
       "      <td>member</td>\n",
       "    </tr>\n",
       "    <tr>\n",
       "      <th>4</th>\n",
       "      <td>64821879B2659E35</td>\n",
       "      <td>classic_bike</td>\n",
       "      <td>2022-02-07 08:05:28</td>\n",
       "      <td>2022-02-07 08:24:03</td>\n",
       "      <td>Astor Place</td>\n",
       "      <td>JC077</td>\n",
       "      <td>Sip Ave</td>\n",
       "      <td>JC056</td>\n",
       "      <td>40.719282</td>\n",
       "      <td>-74.071262</td>\n",
       "      <td>40.730897</td>\n",
       "      <td>-74.063913</td>\n",
       "      <td>member</td>\n",
       "    </tr>\n",
       "  </tbody>\n",
       "</table>\n",
       "</div>"
      ],
      "text/plain": [
       "            ride_id  rideable_type           started_at             ended_at  \\\n",
       "0  B7BCBC133222B04A   classic_bike  2022-02-17 11:48:16  2022-02-17 11:58:30   \n",
       "1  0F9F1A0F18FD3A22  electric_bike  2022-02-02 08:31:26  2022-02-02 08:38:08   \n",
       "2  44B5D106DDB509AC  electric_bike  2022-02-09 14:05:49  2022-02-09 14:10:21   \n",
       "3  E1434F258C195DC6   classic_bike  2022-02-08 07:57:44  2022-02-08 08:15:26   \n",
       "4  64821879B2659E35   classic_bike  2022-02-07 08:05:28  2022-02-07 08:24:03   \n",
       "\n",
       "  start_station_name start_station_id end_station_name end_station_id  \\\n",
       "0        Astor Place            JC077   Journal Square          JC103   \n",
       "1        Astor Place            JC077          Sip Ave          JC056   \n",
       "2        Astor Place            JC077          Sip Ave          JC056   \n",
       "3        Astor Place            JC077          Sip Ave          JC056   \n",
       "4        Astor Place            JC077          Sip Ave          JC056   \n",
       "\n",
       "   start_lat  start_lng    end_lat    end_lng member_casual  \n",
       "0  40.719282 -74.071262  40.733670 -74.062500        member  \n",
       "1  40.719282 -74.071262  40.730897 -74.063913        member  \n",
       "2  40.719282 -74.071262  40.730897 -74.063913        member  \n",
       "3  40.719282 -74.071262  40.730897 -74.063913        member  \n",
       "4  40.719282 -74.071262  40.730897 -74.063913        member  "
      ]
     },
     "execution_count": 5,
     "metadata": {},
     "output_type": "execute_result"
    }
   ],
   "source": [
    "# display dataframe\n",
    "\n",
    "citi_bike_feb_apr.head()"
   ]
  },
  {
   "cell_type": "code",
   "execution_count": 8,
   "metadata": {},
   "outputs": [],
   "source": [
    "citi_bike_feb_apr.to_csv(\"Citi Bike Data - Reference/CitiBike_merged (feb-apr).csv\", index=False, header=True)"
   ]
  }
 ],
 "metadata": {
  "kernelspec": {
   "display_name": "Python 3.9.7 ('base')",
   "language": "python",
   "name": "python3"
  },
  "language_info": {
   "codemirror_mode": {
    "name": "ipython",
    "version": 3
   },
   "file_extension": ".py",
   "mimetype": "text/x-python",
   "name": "python",
   "nbconvert_exporter": "python",
   "pygments_lexer": "ipython3",
   "version": "3.9.7"
  },
  "orig_nbformat": 4,
  "vscode": {
   "interpreter": {
    "hash": "a077222d77dfe082b8f1dd562ad70e458ac2ab76993a0b248ab0476e32e9e8dd"
   }
  }
 },
 "nbformat": 4,
 "nbformat_minor": 2
}
